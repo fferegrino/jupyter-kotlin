{
 "cells": [
  {
   "cell_type": "markdown",
   "id": "7c321b04-cdb0-4f89-940d-5b57bc6fe564",
   "metadata": {
    "kernel": "SoS"
   },
   "source": [
    "# Python vs Kotlin"
   ]
  },
  {
   "cell_type": "code",
   "execution_count": null,
   "id": "43a83277-feac-45cf-a898-80c30a9bbbad",
   "metadata": {
    "kernel": "Python 3 (ipykernel)"
   },
   "outputs": [],
   "source": [
    "%%html\n",
    "<style>\n",
    "div[class*=\"sos_lan__python\"] { \n",
    "    background: linear-gradient(90deg, rgba(255,222,87,1) 10px, rgba(69,132,182,1) 10px, rgba(69,132,182,1) 20px, rgba(254,254,254,1) 20px);\n",
    "}\n",
    "div[class*=\"sos_lan__kotlin\"] {\n",
    "    background: linear-gradient(90deg, rgba(180,140,252,1) 0px, rgba(196,22,224,1) 6px, rgba(223,73,107,1) 16px, rgba(223,73,107,1) 20px, rgba(255,255,255,1) 20px)\n",
    "}\n",
    "</style>"
   ]
  },
  {
   "cell_type": "markdown",
   "id": "a0a0a59d-1409-46b7-95a8-17cf0be9dfb0",
   "metadata": {
    "kernel": "Kotlin"
   },
   "source": [
    "![Kotlin](images/kotlin@1x.png)"
   ]
  },
  {
   "cell_type": "code",
   "execution_count": null,
   "id": "15a28401-61a3-43f9-b88b-f6a38dd2273b",
   "metadata": {
    "kernel": "Kotlin"
   },
   "outputs": [],
   "source": [
    "val filePath = \"user/config/feature.yml\"\n",
    "println(filePath)"
   ]
  },
  {
   "cell_type": "markdown",
   "id": "86c47cbf-e3a1-4e39-80f8-897224237208",
   "metadata": {
    "kernel": "Python 3 (ipykernel)"
   },
   "source": [
    "![Python](images/python@1x.png)"
   ]
  },
  {
   "cell_type": "code",
   "execution_count": null,
   "id": "c12d0540-4a22-41cb-a4ad-7257a2ff30d3",
   "metadata": {
    "kernel": "Python 3 (ipykernel)"
   },
   "outputs": [],
   "source": [
    "file_path = \"user/config/feature.yml\"\n",
    "print(file_path)"
   ]
  },
  {
   "cell_type": "markdown",
   "id": "e44f2104-c025-494a-a527-ecbbeccd8c50",
   "metadata": {
    "kernel": "Kotlin"
   },
   "source": [
    "![Kotlin](images/kotlin@1x.png)"
   ]
  },
  {
   "cell_type": "code",
   "execution_count": null,
   "id": "0d359daa-97d3-48f1-940f-f01d6aa27074",
   "metadata": {
    "kernel": "Kotlin"
   },
   "outputs": [],
   "source": [
    "fun sayFile(file: String, prefix: String = \"/\") {\n",
    "    println(\"$prefix$file\")\n",
    "}\n",
    "\n",
    "sayFile(filePath)"
   ]
  },
  {
   "cell_type": "code",
   "execution_count": null,
   "id": "fc5e3f03-9808-42ee-9125-ebc5052637a2",
   "metadata": {
    "kernel": "Kotlin"
   },
   "outputs": [],
   "source": [
    "sayFile(filePath, prefix = \"C:/\")"
   ]
  },
  {
   "cell_type": "code",
   "execution_count": null,
   "id": "26bd4468-d8dc-4333-a25b-e0eabbf31cdd",
   "metadata": {
    "kernel": "Kotlin"
   },
   "outputs": [],
   "source": [
    "sayFile(prefix = \"D:/\", file=filePath)"
   ]
  },
  {
   "cell_type": "markdown",
   "id": "cb1abe8e-32dc-4507-b2b0-ab11853fbd77",
   "metadata": {
    "kernel": "Python 3 (ipykernel)"
   },
   "source": [
    "![Python](images/python@1x.png)"
   ]
  },
  {
   "cell_type": "code",
   "execution_count": null,
   "id": "e934902e-7969-4d0e-885f-dbb9551cebfa",
   "metadata": {
    "kernel": "Python 3 (ipykernel)"
   },
   "outputs": [],
   "source": [
    "def say_file(file: str, prefix: str = \"/\"):\n",
    "    print(f\"{prefix}{file}\")\n",
    "\n",
    "say_file(file_path)"
   ]
  },
  {
   "cell_type": "code",
   "execution_count": null,
   "id": "80663114-409a-4dcb-84a8-425072c4e981",
   "metadata": {
    "kernel": "Python 3 (ipykernel)"
   },
   "outputs": [],
   "source": [
    "say_file(file_path, prefix = \"C:/\")"
   ]
  },
  {
   "cell_type": "code",
   "execution_count": null,
   "id": "8ff05ccc-770f-44a5-ba6f-5b29cf3e4af8",
   "metadata": {
    "kernel": "Python 3 (ipykernel)"
   },
   "outputs": [],
   "source": [
    "say_file(prefix = \"D:/\", file=file_path)"
   ]
  },
  {
   "cell_type": "markdown",
   "id": "c0cd65b5-bda2-49bf-b47c-b51b3725fe10",
   "metadata": {
    "kernel": "Kotlin"
   },
   "source": [
    "![Kotlin](images/kotlin@1x.png)"
   ]
  },
  {
   "cell_type": "code",
   "execution_count": null,
   "id": "dae6a3e5-100b-4033-9aef-9d410a750337",
   "metadata": {
    "kernel": "Kotlin"
   },
   "outputs": [],
   "source": [
    "val numbers = listOf(1, 2, 3, 4, 5, 6, 7, 8)"
   ]
  },
  {
   "cell_type": "code",
   "execution_count": null,
   "id": "8152b0aa-bdcc-4f5a-b0eb-6f9ef706f2dc",
   "metadata": {
    "kernel": "Kotlin"
   },
   "outputs": [],
   "source": [
    "var squared = numbers.filter({ x -> x % 2 == 0}).map({ x -> x * x})\n",
    "println(squared)"
   ]
  },
  {
   "cell_type": "code",
   "execution_count": null,
   "id": "a725afad-4fa5-4acd-99b0-24ee379e3a05",
   "metadata": {
    "kernel": "Kotlin"
   },
   "outputs": [],
   "source": [
    "squared = numbers.filter{ x -> x % 2 == 0}.map{ x -> x * x}\n",
    "println(squared)"
   ]
  },
  {
   "cell_type": "code",
   "execution_count": null,
   "id": "8dc77573-096d-4f7f-9989-63c10f770f28",
   "metadata": {
    "kernel": "Kotlin"
   },
   "outputs": [],
   "source": [
    "squared = numbers.filter{ it % 2 == 0 }.map{ it * it }\n",
    "println(squared)"
   ]
  },
  {
   "cell_type": "markdown",
   "id": "da61e3ed-17b0-4981-83cf-bd42cf861d43",
   "metadata": {
    "kernel": "Python 3 (ipykernel)"
   },
   "source": [
    "![Python](images/python@1x.png)"
   ]
  },
  {
   "cell_type": "code",
   "execution_count": null,
   "id": "c0906312-0290-427c-b883-b4c306d66230",
   "metadata": {
    "kernel": "Python 3 (ipykernel)"
   },
   "outputs": [],
   "source": [
    "numbers = [1, 2, 3, 4, 5, 6, 7, 8]\n",
    "squared = list(map(lambda x: x * x, filter(lambda x: x % 2 == 0, numbers)))\n",
    "print(squared)"
   ]
  },
  {
   "cell_type": "code",
   "execution_count": null,
   "id": "4ad2085d-25c1-4a4d-8be8-3651dff174d5",
   "metadata": {
    "kernel": "Python 3 (ipykernel)"
   },
   "outputs": [],
   "source": [
    "numbers = [1, 2, 3, 4, 5, 6, 7, 8]\n",
    "squared = [x * x for x in numbers if x % 2 == 0]\n",
    "print(squared)"
   ]
  },
  {
   "cell_type": "markdown",
   "id": "96b6adb8-f058-4ff7-ab02-69e7ae4f8fd9",
   "metadata": {
    "kernel": "Kotlin"
   },
   "source": [
    "![Kotlin](images/kotlin@1x.png)"
   ]
  },
  {
   "cell_type": "code",
   "execution_count": null,
   "id": "1895159f-c950-4070-a58f-e612149fd5ad",
   "metadata": {
    "kernel": "Kotlin"
   },
   "outputs": [],
   "source": [
    "fun mapAndFilter(elements: List<Int>, map_fn: (Int) -> Int, filter_fn: (Int) -> Boolean) : List<Pair<Int, Int>> {\n",
    "    return elements.filter(filter_fn).map({ it to map_fn(it)})\n",
    "}"
   ]
  },
  {
   "cell_type": "code",
   "execution_count": null,
   "id": "940eb821-53ce-4d4d-88f5-e4366a4698f0",
   "metadata": {
    "kernel": "Kotlin"
   },
   "outputs": [],
   "source": [
    "val is_odd = { i: Int -> i % 2 == 0 }\n",
    "val square = { i: Int -> i * i }\n",
    "\n",
    "mapAndFilter(numbers, square, is_odd)"
   ]
  },
  {
   "cell_type": "markdown",
   "id": "30256f50-64dd-436f-a7b1-c64cd534b425",
   "metadata": {
    "kernel": "Python 3 (ipykernel)"
   },
   "source": [
    "![Python](images/python@1x.png)"
   ]
  },
  {
   "cell_type": "code",
   "execution_count": null,
   "id": "eb990cb1-e79a-461c-93a0-1cfa687f0783",
   "metadata": {
    "kernel": "Python 3 (ipykernel)"
   },
   "outputs": [],
   "source": [
    "def map_and_filter(elements, map_fn, filter_fn):\n",
    "    return [(el, map_fn(el)) for el in elements if filter_fn(el)]"
   ]
  },
  {
   "cell_type": "code",
   "execution_count": null,
   "id": "4ca9cf0e-51b5-46f2-a810-0cf5181df287",
   "metadata": {
    "kernel": "Python 3 (ipykernel)"
   },
   "outputs": [],
   "source": [
    "is_odd = lambda i: i % 2 == 0\n",
    "square = lambda i: i * i\n",
    "\n",
    "map_and_filter(numbers, square, is_odd)"
   ]
  },
  {
   "cell_type": "code",
   "execution_count": null,
   "id": "d669442e-34f3-41c6-8e35-f4c8c828f5ff",
   "metadata": {
    "kernel": "Python 3 (ipykernel)"
   },
   "outputs": [],
   "source": []
  },
  {
   "cell_type": "code",
   "execution_count": null,
   "id": "5f4cf88e-80de-4143-94aa-61a196f14ad0",
   "metadata": {
    "kernel": "Python 3 (ipykernel)"
   },
   "outputs": [],
   "source": []
  }
 ],
 "metadata": {
  "kernelspec": {
   "display_name": "SoS",
   "language": "sos",
   "name": "sos"
  },
  "language_info": {
   "codemirror_mode": "sos",
   "file_extension": ".sos",
   "mimetype": "text/x-sos",
   "name": "sos",
   "nbconvert_exporter": "sos_notebook.converter.SoS_Exporter",
   "pygments_lexer": "sos"
  },
  "sos": {
   "kernels": [
    [
     "Kotlin",
     "kotlin",
     "kotlin",
     "",
     "text/x-kotlin"
    ],
    [
     "Python 3 (ipykernel)",
     "python3",
     "python3",
     "",
     {
      "name": "ipython",
      "version": 3
     }
    ]
   ],
   "version": ""
  }
 },
 "nbformat": 4,
 "nbformat_minor": 5
}
