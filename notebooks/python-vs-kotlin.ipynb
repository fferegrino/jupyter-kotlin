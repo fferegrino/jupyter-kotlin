{
 "cells": [
  {
   "cell_type": "markdown",
   "id": "7c321b04-cdb0-4f89-940d-5b57bc6fe564",
   "metadata": {
    "kernel": "SoS"
   },
   "source": [
    "# Python vs Kotlin"
   ]
  },
  {
   "cell_type": "markdown",
   "id": "21d2b0d3-90c4-4fe7-906b-17914dd5799f",
   "metadata": {
    "jp-MarkdownHeadingCollapsed": true,
    "kernel": "SoS"
   },
   "source": [
    "## Variable names"
   ]
  },
  {
   "cell_type": "markdown",
   "id": "a0a0a59d-1409-46b7-95a8-17cf0be9dfb0",
   "metadata": {
    "kernel": "Kotlin"
   },
   "source": [
    "![Kotlin](images/kotlin@1x.png)"
   ]
  },
  {
   "cell_type": "code",
   "execution_count": null,
   "id": "15a28401-61a3-43f9-b88b-f6a38dd2273b",
   "metadata": {
    "kernel": "Kotlin"
   },
   "outputs": [],
   "source": [
    "val filePath = \"user/config/feature.yml\"\n",
    "filePath"
   ]
  },
  {
   "cell_type": "markdown",
   "id": "86c47cbf-e3a1-4e39-80f8-897224237208",
   "metadata": {
    "kernel": "Python 3 (ipykernel)"
   },
   "source": [
    "![Python](images/python@1x.png)"
   ]
  },
  {
   "cell_type": "code",
   "execution_count": null,
   "id": "c12d0540-4a22-41cb-a4ad-7257a2ff30d3",
   "metadata": {
    "kernel": "Python 3 (ipykernel)"
   },
   "outputs": [],
   "source": [
    "file_path = \"user/config/feature.yml\"\n",
    "print(file_path)"
   ]
  },
  {
   "cell_type": "markdown",
   "id": "50e20fd8-bb10-4606-b0a9-41c6995b3ebe",
   "metadata": {
    "jp-MarkdownHeadingCollapsed": true,
    "kernel": "SoS"
   },
   "source": [
    "## Functions"
   ]
  },
  {
   "cell_type": "markdown",
   "id": "e44f2104-c025-494a-a527-ecbbeccd8c50",
   "metadata": {
    "kernel": "Kotlin"
   },
   "source": [
    "![Kotlin](images/kotlin@1x.png)"
   ]
  },
  {
   "cell_type": "code",
   "execution_count": null,
   "id": "0d359daa-97d3-48f1-940f-f01d6aa27074",
   "metadata": {
    "kernel": "Kotlin"
   },
   "outputs": [],
   "source": [
    "fun sayFile(file: String, prefix: String = \"/\") {\n",
    "    println(\"$prefix$file\")\n",
    "}\n",
    "\n",
    "sayFile(filePath)"
   ]
  },
  {
   "cell_type": "code",
   "execution_count": null,
   "id": "fc5e3f03-9808-42ee-9125-ebc5052637a2",
   "metadata": {
    "kernel": "Kotlin"
   },
   "outputs": [],
   "source": [
    "sayFile(filePath, prefix = \"C:/\")"
   ]
  },
  {
   "cell_type": "code",
   "execution_count": null,
   "id": "26bd4468-d8dc-4333-a25b-e0eabbf31cdd",
   "metadata": {
    "kernel": "Kotlin"
   },
   "outputs": [],
   "source": [
    "sayFile(prefix = \"D:/\", file=filePath)"
   ]
  },
  {
   "cell_type": "markdown",
   "id": "cb1abe8e-32dc-4507-b2b0-ab11853fbd77",
   "metadata": {
    "kernel": "Python 3 (ipykernel)"
   },
   "source": [
    "![Python](images/python@1x.png)"
   ]
  },
  {
   "cell_type": "code",
   "execution_count": null,
   "id": "e934902e-7969-4d0e-885f-dbb9551cebfa",
   "metadata": {
    "kernel": "Python 3 (ipykernel)"
   },
   "outputs": [],
   "source": [
    "def say_file(file: str, prefix: str = \"/\"):\n",
    "    print(f\"{prefix}{file}\")\n",
    "\n",
    "say_file(file_path)"
   ]
  },
  {
   "cell_type": "code",
   "execution_count": null,
   "id": "80663114-409a-4dcb-84a8-425072c4e981",
   "metadata": {
    "kernel": "Python 3 (ipykernel)"
   },
   "outputs": [],
   "source": [
    "say_file(file_path, prefix = \"C:/\")"
   ]
  },
  {
   "cell_type": "code",
   "execution_count": null,
   "id": "8ff05ccc-770f-44a5-ba6f-5b29cf3e4af8",
   "metadata": {
    "kernel": "Python 3 (ipykernel)"
   },
   "outputs": [],
   "source": [
    "say_file(prefix = \"D:/\", file=file_path)"
   ]
  },
  {
   "cell_type": "markdown",
   "id": "680ea2b1-d904-41fc-9d5b-ab2c44902807",
   "metadata": {
    "jp-MarkdownHeadingCollapsed": true,
    "kernel": "SoS"
   },
   "source": [
    "## Working with collections"
   ]
  },
  {
   "cell_type": "markdown",
   "id": "c0cd65b5-bda2-49bf-b47c-b51b3725fe10",
   "metadata": {
    "kernel": "Kotlin"
   },
   "source": [
    "![Kotlin](images/kotlin@1x.png)"
   ]
  },
  {
   "cell_type": "code",
   "execution_count": null,
   "id": "dae6a3e5-100b-4033-9aef-9d410a750337",
   "metadata": {
    "kernel": "Kotlin"
   },
   "outputs": [],
   "source": [
    "val numbers = listOf(1, 2, 3, 4, 5, 6, 7, 8)"
   ]
  },
  {
   "cell_type": "code",
   "execution_count": null,
   "id": "8152b0aa-bdcc-4f5a-b0eb-6f9ef706f2dc",
   "metadata": {
    "kernel": "Kotlin"
   },
   "outputs": [],
   "source": [
    "var squared = numbers.filter({ x -> x % 2 == 0}).map({ x -> x * x})\n",
    "squared"
   ]
  },
  {
   "cell_type": "code",
   "execution_count": null,
   "id": "a725afad-4fa5-4acd-99b0-24ee379e3a05",
   "metadata": {
    "kernel": "Kotlin"
   },
   "outputs": [],
   "source": [
    "squared = numbers.filter{ x -> x % 2 == 0}.map{ x -> x * x}\n",
    "squared"
   ]
  },
  {
   "cell_type": "code",
   "execution_count": null,
   "id": "8dc77573-096d-4f7f-9989-63c10f770f28",
   "metadata": {
    "kernel": "Kotlin"
   },
   "outputs": [],
   "source": [
    "squared = numbers.filter{ it % 2 == 0 }.map{ it * it }\n",
    "squared"
   ]
  },
  {
   "cell_type": "markdown",
   "id": "da61e3ed-17b0-4981-83cf-bd42cf861d43",
   "metadata": {
    "kernel": "Python 3 (ipykernel)"
   },
   "source": [
    "![Python](images/python@1x.png)"
   ]
  },
  {
   "cell_type": "code",
   "execution_count": null,
   "id": "c0906312-0290-427c-b883-b4c306d66230",
   "metadata": {
    "kernel": "Python 3 (ipykernel)"
   },
   "outputs": [],
   "source": [
    "numbers = [1, 2, 3, 4, 5, 6, 7, 8]\n",
    "squared = list(map(lambda x: x * x, filter(lambda x: x % 2 == 0, numbers)))\n",
    "squared"
   ]
  },
  {
   "cell_type": "code",
   "execution_count": null,
   "id": "4ad2085d-25c1-4a4d-8be8-3651dff174d5",
   "metadata": {
    "kernel": "Python 3 (ipykernel)"
   },
   "outputs": [],
   "source": [
    "numbers = [1, 2, 3, 4, 5, 6, 7, 8]\n",
    "squared = [x * x for x in numbers if x % 2 == 0]\n",
    "print(squared)"
   ]
  },
  {
   "cell_type": "markdown",
   "id": "281157d4-b87c-4ac8-9d4e-ef1d6b2f22cc",
   "metadata": {
    "jp-MarkdownHeadingCollapsed": true,
    "kernel": "SoS"
   },
   "source": [
    "## Higher order functions"
   ]
  },
  {
   "cell_type": "markdown",
   "id": "96b6adb8-f058-4ff7-ab02-69e7ae4f8fd9",
   "metadata": {
    "kernel": "Kotlin"
   },
   "source": [
    "![Kotlin](images/kotlin@1x.png)"
   ]
  },
  {
   "cell_type": "code",
   "execution_count": null,
   "id": "1895159f-c950-4070-a58f-e612149fd5ad",
   "metadata": {
    "kernel": "Kotlin"
   },
   "outputs": [],
   "source": [
    "fun mapAndFilter(elements: List<Int>, map_fn: (Int) -> Int, filter_fn: (Int) -> Boolean) : List<Pair<Int, Int>> {\n",
    "    return elements.filter(filter_fn).map({ it to map_fn(it)})\n",
    "}"
   ]
  },
  {
   "cell_type": "code",
   "execution_count": null,
   "id": "940eb821-53ce-4d4d-88f5-e4366a4698f0",
   "metadata": {
    "kernel": "Kotlin"
   },
   "outputs": [],
   "source": [
    "val is_odd = { i: Int -> i % 2 == 0 }\n",
    "val square = { i: Int -> i * i }\n",
    "\n",
    "mapAndFilter(numbers, square, is_odd)"
   ]
  },
  {
   "cell_type": "markdown",
   "id": "30256f50-64dd-436f-a7b1-c64cd534b425",
   "metadata": {
    "kernel": "Python 3 (ipykernel)"
   },
   "source": [
    "![Python](images/python@1x.png)"
   ]
  },
  {
   "cell_type": "code",
   "execution_count": null,
   "id": "eb990cb1-e79a-461c-93a0-1cfa687f0783",
   "metadata": {
    "kernel": "Python 3 (ipykernel)"
   },
   "outputs": [],
   "source": [
    "def map_and_filter(elements, map_fn, filter_fn):\n",
    "    return [(el, map_fn(el)) for el in elements if filter_fn(el)]"
   ]
  },
  {
   "cell_type": "code",
   "execution_count": null,
   "id": "4ca9cf0e-51b5-46f2-a810-0cf5181df287",
   "metadata": {
    "kernel": "Python 3 (ipykernel)"
   },
   "outputs": [],
   "source": [
    "is_odd = lambda i: i % 2 == 0\n",
    "square = lambda i: i * i\n",
    "\n",
    "map_and_filter(numbers, square, is_odd)"
   ]
  },
  {
   "cell_type": "markdown",
   "id": "249e6c27-b3a8-430d-a253-14680599b3ec",
   "metadata": {
    "jp-MarkdownHeadingCollapsed": true,
    "kernel": "SoS"
   },
   "source": [
    "## Destructuring"
   ]
  },
  {
   "cell_type": "markdown",
   "id": "b1f4b620-fcd1-4e7c-aa02-5b2e933649ef",
   "metadata": {
    "kernel": "Python 3 (ipykernel)"
   },
   "source": [
    "![Kotlin](images/kotlin@1x.png)"
   ]
  },
  {
   "cell_type": "code",
   "execution_count": null,
   "id": "078b3892-fd96-4f5d-ad0b-1747b8cd42ca",
   "metadata": {
    "kernel": "Kotlin"
   },
   "outputs": [],
   "source": [
    "for ((key, value) in mapAndFilter(numbers, square, is_odd)) {\n",
    "    println(\"$key maps to $value\")\n",
    "}"
   ]
  },
  {
   "cell_type": "markdown",
   "id": "7f3b21f5-b7ba-435c-8cd8-e9e06567d30f",
   "metadata": {
    "kernel": "Python 3 (ipykernel)"
   },
   "source": [
    "![Python](images/python@1x.png)"
   ]
  },
  {
   "cell_type": "code",
   "execution_count": null,
   "id": "c2e981ca-0650-451b-8672-80738bc67801",
   "metadata": {
    "kernel": "Python 3 (ipykernel)"
   },
   "outputs": [],
   "source": [
    "for key, value in map_and_filter(numbers, square, is_odd):\n",
    "    print(f\"{key} maps to {value}\")"
   ]
  },
  {
   "cell_type": "code",
   "execution_count": null,
   "id": "8144a41a-a172-4c76-bc75-8fb92f8ecb53",
   "metadata": {
    "kernel": "Python 3 (ipykernel)"
   },
   "outputs": [],
   "source": [
    "values =['A', 'B', 'C', 'X', 'Y', 'Z']\n",
    "\n",
    "v1, v2, *_, last = values\n",
    "\n",
    "print(v1, last)"
   ]
  },
  {
   "cell_type": "markdown",
   "id": "1596f3c1-ad6b-4c03-844c-6419bbfebeea",
   "metadata": {
    "jp-MarkdownHeadingCollapsed": true,
    "kernel": "Python 3 (ipykernel)"
   },
   "source": [
    "## Data classes"
   ]
  },
  {
   "cell_type": "markdown",
   "id": "b386de69-bad9-4b49-9740-4a8b6ac42848",
   "metadata": {
    "kernel": "Kotlin"
   },
   "source": [
    "![Kotlin](images/kotlin@1x.png)"
   ]
  },
  {
   "cell_type": "code",
   "execution_count": null,
   "id": "5ab4474b-4de5-495d-ace5-c8e61bd11e5b",
   "metadata": {
    "kernel": "Kotlin"
   },
   "outputs": [],
   "source": [
    "data class Person(open val name: String)\n",
    "\n",
    "val ronnie = Person(\"Ronnie\")\n",
    "ronnie"
   ]
  },
  {
   "cell_type": "markdown",
   "id": "c56b083b-97c2-4960-b2b3-54b2586db5ac",
   "metadata": {
    "kernel": "Python 3 (ipykernel)"
   },
   "source": [
    "![Python](images/python@1x.png)"
   ]
  },
  {
   "cell_type": "code",
   "execution_count": null,
   "id": "a6a76ec9-ca9b-4323-9d9b-129a20a4e284",
   "metadata": {
    "kernel": "Python 3 (ipykernel)"
   },
   "outputs": [],
   "source": [
    "from dataclasses import dataclass\n",
    "\n",
    "@dataclass\n",
    "class Person:\n",
    "    name: str\n",
    "\n",
    "ronnie = Person(\"Ronnie\")\n",
    "ronnie"
   ]
  },
  {
   "cell_type": "markdown",
   "id": "2bfacc84-9223-43a1-a3ae-56c9dbc28722",
   "metadata": {
    "jp-MarkdownHeadingCollapsed": true,
    "kernel": "SoS"
   },
   "source": [
    "## `if` vs `match`/`when`"
   ]
  },
  {
   "cell_type": "markdown",
   "id": "5e7996f8-9fac-4732-b9ff-b29e37914d42",
   "metadata": {
    "kernel": "Kotlin"
   },
   "source": [
    "![Kotlin](images/kotlin@1x.png)"
   ]
  },
  {
   "cell_type": "code",
   "execution_count": null,
   "id": "b79de88e-c365-4701-8862-0ca0e260a544",
   "metadata": {
    "kernel": "Kotlin"
   },
   "outputs": [],
   "source": [
    "val wheels = 3"
   ]
  },
  {
   "cell_type": "code",
   "execution_count": null,
   "id": "8e432723-ae1b-442d-a824-12e6d8f52d6b",
   "metadata": {
    "kernel": "Kotlin"
   },
   "outputs": [],
   "source": [
    "when (wheels) {\n",
    "    1 -> println(\"Unicycle\")\n",
    "    2 -> println(\"Bicycle\")\n",
    "    3 -> println(\"Tricycle\")\n",
    "    4 -> println(\"Car\")\n",
    "    else -> println(\"Unknown\")\n",
    "}"
   ]
  },
  {
   "cell_type": "markdown",
   "id": "b2508228-53ee-4ba1-b8bf-f27b9e614bc5",
   "metadata": {
    "kernel": "Python 3 (ipykernel)"
   },
   "source": [
    "![Python](images/python@1x.png)"
   ]
  },
  {
   "cell_type": "code",
   "execution_count": null,
   "id": "bd316b61-8fdb-4b73-bc70-4a98998e055e",
   "metadata": {
    "kernel": "Python 3 (ipykernel)"
   },
   "outputs": [],
   "source": [
    "wheels = 3\n",
    "\n",
    "match wheels:\n",
    "    case 1:\n",
    "        print(\"Unicycle\")\n",
    "    case 2:\n",
    "        print(\"Bicycle\")\n",
    "    case 3:\n",
    "        print(\"Tricycle\")\n",
    "    case 4:\n",
    "        print(\"Car\")\n",
    "    case _:\n",
    "        print(\"Unknown\")"
   ]
  },
  {
   "cell_type": "code",
   "execution_count": null,
   "id": "6535aad3-1510-400f-bb74-c97390f0f052",
   "metadata": {
    "kernel": "Python 3 (ipykernel)"
   },
   "outputs": [],
   "source": [
    "wheels = 3\n",
    "\n",
    "if wheels == 1:\n",
    "    print(\"Unicycle\")\n",
    "elif wheels == 2:\n",
    "    print(\"Bicycle\")\n",
    "elif wheels == 3:\n",
    "    print(\"Tricycle\")\n",
    "elif wheels == 4:\n",
    "    print(\"Car\")\n",
    "else:\n",
    "    print(\"Unknown\")"
   ]
  },
  {
   "cell_type": "markdown",
   "id": "30b4c101-38ad-4da6-aabe-049e9c63233a",
   "metadata": {
    "jp-MarkdownHeadingCollapsed": true,
    "kernel": "SoS"
   },
   "source": [
    "## Pattern matching"
   ]
  },
  {
   "cell_type": "markdown",
   "id": "4495f9fb-6de8-4ee3-9b4d-f21b80c4f3e5",
   "metadata": {
    "kernel": "Python 3 (ipykernel)"
   },
   "source": [
    "![Kotlin](images/kotlin@1x.png)"
   ]
  },
  {
   "cell_type": "code",
   "execution_count": null,
   "id": "6dc956ee-c7dc-4f6e-8e9d-f0b4796b152f",
   "metadata": {
    "kernel": "Kotlin"
   },
   "outputs": [],
   "source": [
    "open class Person(open val name: String)\n",
    "data class Employee(override val name: String, val position: String) : Person(name)\n",
    "data class Student(override val name: String, val major: String) : Person(name)\n",
    "data class Teacher(override val name: String, val subject: String) : Person(name)"
   ]
  },
  {
   "cell_type": "code",
   "execution_count": null,
   "id": "57f32c38-da2a-4cbf-90f7-2ea70c48ed35",
   "metadata": {
    "kernel": "Kotlin"
   },
   "outputs": [],
   "source": [
    "fun describePerson(person: Person) : String {\n",
    "    return when (person) {\n",
    "        is Employee -> \"Employee ${person.name} works as ${person.position}\"\n",
    "        is Student -> \"Student ${person.name} is majoring in ${person.major}\"\n",
    "        is Teacher -> \"Teacher ${person.name} teaches ${person.subject}\"\n",
    "        else -> \"Person ${person.name}\"\n",
    "    }\n",
    "}"
   ]
  },
  {
   "cell_type": "code",
   "execution_count": null,
   "id": "d1dce2d1-9a98-4bba-839d-516a964657b1",
   "metadata": {
    "kernel": "Kotlin"
   },
   "outputs": [],
   "source": [
    "val person1 = Person(\"Alice\")\n",
    "val employee = Employee(\"Bob\", \"Developer\")\n",
    "val student = Student(\"Charlie\", \"Computer Science\")\n",
    "val teacher = Teacher(\"David\", \"Mathematics\")\n",
    "\n",
    "println(describePerson(person1))   // Output: Person Alice\n",
    "println(describePerson(employee))  // Output: Employee Bob works as Developer\n",
    "println(describePerson(student))   // Output: Student Charlie is majoring in Computer Science\n",
    "println(describePerson(teacher))   // Output: Teacher David teaches Mathematics"
   ]
  },
  {
   "cell_type": "markdown",
   "id": "10e50e2f-38c4-4615-8d85-620e65d2e4aa",
   "metadata": {
    "kernel": "SoS"
   },
   "source": [
    "![Python](images/python@1x.png)"
   ]
  },
  {
   "cell_type": "code",
   "execution_count": null,
   "id": "2b2732e3-d62c-4b37-bc7c-c120a5d55b77",
   "metadata": {
    "kernel": "Python 3 (ipykernel)"
   },
   "outputs": [],
   "source": [
    "from dataclasses import dataclass\n",
    "\n",
    "@dataclass\n",
    "class Person:\n",
    "    name: str\n",
    "\n",
    "@dataclass\n",
    "class Employee(Person):\n",
    "    position: str\n",
    "\n",
    "@dataclass\n",
    "class Student(Person):\n",
    "    major: str\n",
    "\n",
    "@dataclass\n",
    "class Teacher(Person):\n",
    "    subject: str\n"
   ]
  },
  {
   "cell_type": "code",
   "execution_count": null,
   "id": "111c2d72-22b5-4292-b8bf-0e40fbaea01b",
   "metadata": {
    "kernel": "Python 3 (ipykernel)"
   },
   "outputs": [],
   "source": [
    "def describe_person(person):\n",
    "    match person:\n",
    "        case Employee(name=name, position=position):\n",
    "            return f\"Employee {name} works as {position}\"\n",
    "        case Student(name=name, major=major):\n",
    "            return f\"Student {name} is majoring in {major}\"\n",
    "        case Teacher(name=name, subject=subject):\n",
    "            return f\"Teacher {name} teaches {subject}\"\n",
    "        case Person(name=name):\n",
    "            return f\"Person {name}\"\n",
    "        case _:\n",
    "            return \"Unknown person type\""
   ]
  },
  {
   "cell_type": "code",
   "execution_count": null,
   "id": "19d4bf3a-d787-404f-ad4c-5acd5eef7411",
   "metadata": {
    "kernel": "Python 3 (ipykernel)"
   },
   "outputs": [],
   "source": [
    "person1 = Person(\"Alice\")\n",
    "employee = Employee(\"Bob\", \"Developer\")\n",
    "student = Student(\"Charlie\", \"Computer Science\")\n",
    "teacher = Teacher(\"David\", \"Mathematics\")\n",
    "\n",
    "print(describe_person(person1))   # Output: Person Alice\n",
    "print(describe_person(employee))  # Output: Employee Bob works as Developer\n",
    "print(describe_person(student))   # Output: Student Charlie is majoring in Computer Science\n",
    "print(describe_person(teacher))   # Output: Teacher David teaches Mathematics"
   ]
  },
  {
   "cell_type": "code",
   "execution_count": null,
   "id": "7f77be8e-a77b-4fa5-8ef2-f920f64a29ae",
   "metadata": {
    "kernel": "Python 3 (ipykernel)"
   },
   "outputs": [],
   "source": [
    "def describe_vehicle(vehicle):\n",
    "    match vehicle:\n",
    "        case {\"type\": \"car\", \"wheels\": 4, \"color\": color}:\n",
    "            print(f\"A 4-wheeled {color} car\")\n",
    "        case {\"type\": \"motorcycle\", \"wheels\": 2, \"has_sidecar\": True}:\n",
    "            print(\"A motorcycle with a sidecar\")\n",
    "        case {\"type\": \"bicycle\", \"wheels\": 2}:\n",
    "            print(\"A regular bicycle\")\n",
    "        case _:\n",
    "            print(\"Unknown vehicle\")\n",
    "\n",
    "describe_vehicle({\"type\": \"car\", \"wheels\": 4, \"color\": \"red\"})\n",
    "describe_vehicle({\"type\": \"motorcycle\", \"wheels\": 2, \"has_sidecar\": True})\n",
    "describe_vehicle({\"type\": \"bicycle\", \"wheels\": 2})\n",
    "describe_vehicle({\"type\": \"bicycle\", \"wheels\": 3})"
   ]
  },
  {
   "cell_type": "code",
   "execution_count": null,
   "id": "92af9ed9-bb3c-4561-bf1f-17bb93281350",
   "metadata": {
    "kernel": "Python 3 (ipykernel)"
   },
   "outputs": [],
   "source": []
  }
 ],
 "metadata": {
  "kernelspec": {
   "display_name": "SoS",
   "language": "sos",
   "name": "sos"
  },
  "language_info": {
   "codemirror_mode": "sos",
   "file_extension": ".sos",
   "mimetype": "text/x-sos",
   "name": "sos",
   "nbconvert_exporter": "sos_notebook.converter.SoS_Exporter",
   "pygments_lexer": "sos"
  },
  "sos": {
   "kernels": [
    [
     "Kotlin",
     "kotlin",
     "kotlin",
     "",
     "text/x-kotlin"
    ],
    [
     "Python 3 (ipykernel)",
     "python3",
     "python3",
     "",
     {
      "name": "ipython",
      "version": 3
     }
    ]
   ],
   "version": ""
  }
 },
 "nbformat": 4,
 "nbformat_minor": 5
}
